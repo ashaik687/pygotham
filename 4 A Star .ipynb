{
 "cells": [
  {
   "cell_type": "markdown",
   "metadata": {},
   "source": [
    "#### 4 Using Networkx to Explore Pathfinding Specific graphs Algorithms Dijkstra and A* (A star) "
   ]
  },
  {
   "cell_type": "markdown",
   "metadata": {},
   "source": [
    "Setup of simple examples with A* \n"
   ]
  },
  {
   "cell_type": "code",
   "execution_count": 50,
   "metadata": {
    "collapsed": false
   },
   "outputs": [],
   "source": [
    "#image below using <img src=\"files/wgraph2.png\"> "
   ]
  },
  {
   "cell_type": "markdown",
   "metadata": {},
   "source": [
    "Edx Graph  \n",
    "<img src=\"files/wgraph3.png\">"
   ]
  },
  {
   "cell_type": "code",
   "execution_count": 51,
   "metadata": {
    "collapsed": false
   },
   "outputs": [],
   "source": [
    "import networkx as nx"
   ]
  },
  {
   "cell_type": "code",
   "execution_count": 52,
   "metadata": {
    "collapsed": false
   },
   "outputs": [],
   "source": [
    "import  matplotlib.pyplot as plt  "
   ]
  },
  {
   "cell_type": "code",
   "execution_count": 53,
   "metadata": {
    "collapsed": false
   },
   "outputs": [],
   "source": [
    "#inline matplotlib \n",
    "%matplotlib inline"
   ]
  },
  {
   "cell_type": "code",
   "execution_count": 54,
   "metadata": {
    "collapsed": false
   },
   "outputs": [],
   "source": [
    "g1 = nx.Graph()"
   ]
  },
  {
   "cell_type": "code",
   "execution_count": 55,
   "metadata": {
    "collapsed": false
   },
   "outputs": [],
   "source": [
    "g1.add_nodes_from(['s','a','b','c','g'])"
   ]
  },
  {
   "cell_type": "code",
   "execution_count": 56,
   "metadata": {
    "collapsed": false
   },
   "outputs": [],
   "source": [
    "#labels \n",
    "g1.add_edge('s','a', weight=1)\n",
    "g1.add_edge('s','b', weight=4)\n",
    "g1.add_edge('a','b', weight=2)\n",
    "g1.add_edge('a','c', weight=5)\n",
    "g1.add_edge('a','g', weight=12)\n",
    "g1.add_edge('b','c', weight=2)\n",
    "g1.add_edge('c','g', weight=3)"
   ]
  },
  {
   "cell_type": "code",
   "execution_count": 57,
   "metadata": {
    "collapsed": false
   },
   "outputs": [
    {
     "name": "stdout",
     "output_type": "stream",
     "text": [
      "{('b', 'c'): 2, ('c', 'g'): 3, ('s', 'b'): 4, ('a', 's'): 1, ('a', 'g'): 12, ('a', 'b'): 2, ('a', 'c'): 5}\n"
     ]
    }
   ],
   "source": [
    "edge_labs = dict([( (u,v), d['weight']) for u,v,d in g1.edges(data=True)])\n",
    "print edge_labs"
   ]
  },
  {
   "cell_type": "code",
   "execution_count": 58,
   "metadata": {
    "collapsed": false
   },
   "outputs": [],
   "source": [
    "#pos fixed pos\n",
    "#set of fixed positions for the node \n",
    "fixed_positions = {'s':(0,4),'a':(4,6), 'b':(4,2), 'c':(8,4), 'g':(12,4)}#dict with two of the positions set"
   ]
  },
  {
   "cell_type": "code",
   "execution_count": 59,
   "metadata": {
    "collapsed": false
   },
   "outputs": [
    {
     "data": {
      "image/png": "[encoded data removed]",
      "text/plain": [
       "<matplotlib.figure.Figure at 0xd251fb0>"
      ]
     },
     "metadata": {},
     "output_type": "display_data"
    }
   ],
   "source": [
    "#\n",
    "LIGHT_BLUE =  '#A0CBE2'  #html hex colors http://www.color-hex.com/color/a0cbe2\n",
    "pos = fixed_positions\n",
    "nx.draw_networkx(g1, pos, with_labels=True, node_size=1800, node_color=LIGHT_BLUE, font_size= 19 ) #node_color='b'\n",
    "nx.draw_networkx_edge_labels(g1, pos, edge_labels=edge_labs) \n",
    "\n",
    "#nodes = nx.draw_networkx_nodes(g1,pos)\n",
    "#nodes.set_edgecolor('g')\n",
    "\n",
    "nx.draw_networkx_nodes(g1, pos, node_shape =None, node_color=LIGHT_BLUE , font_size = 20    )\n",
    "#https://networkx.github.io/documentation/latest/_modules/networkx/drawing/nx_pylab.html \n",
    "\n",
    "plt.title(\"Weighted Graph\")\n",
    "plt.axis('off')   #removes axis\n",
    "plt.show()"
   ]
  },
  {
   "cell_type": "code",
   "execution_count": 61,
   "metadata": {
    "collapsed": false
   },
   "outputs": [
    {
     "data": {
      "text/plain": [
       "['s', 'a', 'b', 'c', 'g']"
      ]
     },
     "execution_count": 61,
     "metadata": {},
     "output_type": "execute_result"
    }
   ],
   "source": [
    "nx.dijkstra_path(g1, 's','g')"
   ]
  },
  {
   "cell_type": "markdown",
   "metadata": {},
   "source": [
    "Edx Graph  \n",
    "<img src=\"files/wgraph3.png\">"
   ]
  },
  {
   "cell_type": "code",
   "execution_count": 67,
   "metadata": {
    "collapsed": false
   },
   "outputs": [],
   "source": [
    " #hval with inadmissible h vals \n",
    "hval = {'s':7, 'a':6 , 'b':2, 'c':1, 'g':0 }"
   ]
  },
  {
   "cell_type": "code",
   "execution_count": 68,
   "metadata": {
    "collapsed": false
   },
   "outputs": [],
   "source": [
    "def d1(a,b):\n",
    "    print a,b\n",
    "    return hval[a]\n"
   ]
  },
  {
   "cell_type": "code",
   "execution_count": 69,
   "metadata": {
    "collapsed": false
   },
   "outputs": [
    {
     "name": "stdout",
     "output_type": "stream",
     "text": [
      "a g\n",
      "b g\n",
      "c g\n",
      "g g\n"
     ]
    },
    {
     "data": {
      "text/plain": [
       "['s', 'b', 'c', 'g']"
      ]
     },
     "execution_count": 69,
     "metadata": {},
     "output_type": "execute_result"
    }
   ],
   "source": [
    "#write a little function... \n",
    "nx.astar_path(g1,'s','g', heuristic=d1 )"
   ]
  },
  {
   "cell_type": "code",
   "execution_count": 70,
   "metadata": {
    "collapsed": false
   },
   "outputs": [],
   "source": [
    "#some arbitrary values \n",
    "hval = {'s':7, 'a':4, 'b':2,'c':1,'g':0}"
   ]
  },
  {
   "cell_type": "code",
   "execution_count": 71,
   "metadata": {
    "collapsed": false
   },
   "outputs": [
    {
     "name": "stdout",
     "output_type": "stream",
     "text": [
      "a g\n",
      "b g\n",
      "c g\n",
      "g g\n"
     ]
    },
    {
     "data": {
      "text/plain": [
       "['s', 'a', 'b', 'c', 'g']"
      ]
     },
     "execution_count": 71,
     "metadata": {},
     "output_type": "execute_result"
    }
   ],
   "source": [
    "#run with different hvals\n",
    "nx.astar_path(g1,'s','g', heuristic=d1 )"
   ]
  },
  {
   "cell_type": "markdown",
   "metadata": {},
   "source": [
    "##Digression"
   ]
  },
  {
   "cell_type": "markdown",
   "metadata": {
    "collapsed": false
   },
   "source": [
    "little digression we could use rough distance since we have pos\n",
    "distance = sqrt((x2-x1)**2 + (y2-y1)**2)\n",
    "http://www.calculatorsoup.com/calculators/geometry-plane/distance-two-points.php"
   ]
  },
  {
   "cell_type": "code",
   "execution_count": 15,
   "metadata": {
    "collapsed": false
   },
   "outputs": [
    {
     "name": "stdout",
     "output_type": "stream",
     "text": [
      "[0, 1, 2, 3, 4]\n",
      "[(0, 0), (0, 1), (1, 1), (1, 2), (2, 2)]\n"
     ]
    },
    {
     "data": {
      "text/plain": [
       "[(0, 0), (0, 1), (1, 1), (1, 2), (2, 2)]"
      ]
     },
     "execution_count": 15,
     "metadata": {},
     "output_type": "execute_result"
    }
   ],
   "source": [
    "#example from http://networkx.lanl.gov/reference/generated/networkx.algorithms.shortest_paths.astar.astar_path.html\n",
    "G=nx.path_graph(5)\n",
    "print(nx.astar_path(G,0,4))\n",
    "\n",
    "G=nx.grid_graph(dim=[3,3])  # nodes are two-tuples (x,y)\n",
    "\n",
    "def dist(a, b):\n",
    "    (x1, y1) = a\n",
    "    (x2, y2) = b\n",
    "    return ((x1 - x2) ** 2 + (y1 - y2) ** 2) ** 0.5\n",
    "\n",
    "print(nx.astar_path(G,(0,0),(2,2),dist))\n",
    "[(0, 0), (0, 1), (1, 1), (1, 2), (2, 2)]"
   ]
  },
  {
   "cell_type": "code",
   "execution_count": 24,
   "metadata": {
    "collapsed": false
   },
   "outputs": [],
   "source": [
    "#pos fixed pos\n",
    "#set of fixed positions for the node \n",
    "pos1 = {'s':(0,4),'a':(4,6), 'b':(4,2), 'c':(8,4), 'g':(12,4)}#dict with two of the positions set"
   ]
  },
  {
   "cell_type": "code",
   "execution_count": 33,
   "metadata": {
    "collapsed": false
   },
   "outputs": [
    {
     "data": {
      "text/plain": [
       "(4, 6)"
      ]
     },
     "execution_count": 33,
     "metadata": {},
     "output_type": "execute_result"
    }
   ],
   "source": [
    "pos1['a'] #get the tuple"
   ]
  },
  {
   "cell_type": "code",
   "execution_count": 35,
   "metadata": {
    "collapsed": false
   },
   "outputs": [
    {
     "data": {
      "text/plain": [
       "4"
      ]
     },
     "execution_count": 35,
     "metadata": {},
     "output_type": "execute_result"
    }
   ],
   "source": [
    "pos1['a'][0] #get x "
   ]
  },
  {
   "cell_type": "code",
   "execution_count": 37,
   "metadata": {
    "collapsed": true
   },
   "outputs": [],
   "source": [
    "import math"
   ]
  },
  {
   "cell_type": "code",
   "execution_count": 72,
   "metadata": {
    "collapsed": false
   },
   "outputs": [],
   "source": [
    "def d2(a,b):\n",
    "    #print \"pt1=\",a,\"pt2=\",b\n",
    "    #print  pos1[b][0], pos1[a][0]   ,  pos1[b][1],pos1[a][1]   \n",
    "    #print ((pos1[b][0]- pos1[a][0])**2) , ((pos1[b][1]-pos1[a][1])**2)   \n",
    "    z = math.sqrt( ((pos1[b][0]- pos1[a][0])**2) + ((pos1[b][1]-pos1[a][1])**2)  ) \n",
    "    return z \n",
    "        "
   ]
  },
  {
   "cell_type": "code",
   "execution_count": 73,
   "metadata": {
    "collapsed": false
   },
   "outputs": [
    {
     "data": {
      "text/plain": [
       "['s', 'a', 'c', 'g']"
      ]
     },
     "execution_count": 73,
     "metadata": {},
     "output_type": "execute_result"
    }
   ],
   "source": [
    "#write a little function... \n",
    "nx.astar_path(g1,'s','g',  heuristic=d2 )"
   ]
  },
  {
   "cell_type": "code",
   "execution_count": null,
   "metadata": {
    "collapsed": true
   },
   "outputs": [],
   "source": []
  }
 ],
 "metadata": {
  "kernelspec": {
   "display_name": "Python 2",
   "language": "python",
   "name": "python2"
  },
  "language_info": {
   "codemirror_mode": {
    "name": "ipython",
    "version": 2
   },
   "file_extension": ".py",
   "mimetype": "text/x-python",
   "name": "python",
   "nbconvert_exporter": "python",
   "pygments_lexer": "ipython2",
   "version": "2.7.10"
  }
 },
 "nbformat": 4,
 "nbformat_minor": 0
}
