{
 "cells": [
  {
   "cell_type": "markdown",
   "metadata": {},
   "source": [
    "## 3 A* Builds on work we did with Dijkstra but now with an h() function that adds an additional score. "
   ]
  },
  {
   "cell_type": "markdown",
   "metadata": {},
   "source": [
    "Walking thru Dijkstra code on dictionary version of the graph\n",
    "- Rename nodes to numbers \n",
    "- Represent graph as a dictionary (model collision Networkx vs Programatic repre)\n",
    "- Using min-heap BHeap \n",
    "- Changing distances and heap \n",
    "\n",
    "Once you have this describing A* is certainly easier\n",
    "\n"
   ]
  },
  {
   "cell_type": "code",
   "execution_count": 1,
   "metadata": {
    "collapsed": false
   },
   "outputs": [],
   "source": [
    "#image below using <img src=\"files/wgraph2.png\"> "
   ]
  },
  {
   "cell_type": "markdown",
   "metadata": {},
   "source": [
    "Edx Graph - example with just Graph and not heuristics \n",
    "<img src=\"files/wgraph5.png\">"
   ]
  },
  {
   "cell_type": "code",
   "execution_count": 3,
   "metadata": {
    "collapsed": false
   },
   "outputs": [],
   "source": [
    "#another way to represent the graph is just use a dictionary \n",
    "g2 = {0 : {1 : 1, 2 : 4},\n",
    "      1 : {2 : 2, 3 : 5, 4 : 12},\n",
    "      2 : {3 : 2},\n",
    "      3 : {4 : 3},\n",
    "      4 : {}, }\n",
    "      "
   ]
  },
  {
   "cell_type": "markdown",
   "metadata": {},
   "source": [
    "<img src=\"files/wgraph6.png\"> "
   ]
  },
  {
   "cell_type": "code",
   "execution_count": 4,
   "metadata": {
    "collapsed": true
   },
   "outputs": [],
   "source": [
    "# https://github.com/heineman/python-algorithms/blob/master/9.%20Single-Source%20Shortest%20Path/sssp.py\n",
    "from bheap import BHeap\n",
    "import sys\n",
    "\n",
    "          \n",
    "def singleSourceShortestPath(graph, s):\n",
    "    \"\"\"Compute and return (dist, pred) matrices of computation\"\"\"\n",
    "\n",
    "    pq = BHeap(len(graph))\n",
    "    dist = {}\n",
    "    pred = {}\n",
    "    \n",
    "    for v in graph:\n",
    "        dist[v] = sys.maxint\n",
    "        pred[v] = None\n",
    "    dist[s] = 0\n",
    "\n",
    "    for v in graph:\n",
    "        pq.insert(v, dist[v])\n",
    "\n",
    "    while not pq.isEmpty():\n",
    "        u = pq.smallest()\n",
    "        for v in graph[u]:\n",
    "            wt = graph[u][v]\n",
    "            newLen = dist[u] + wt\n",
    "\n",
    "            if newLen < dist[v]:\n",
    "                pq.decreaseKey(v, newLen)\n",
    "                dist[v] = newLen\n",
    "                pred[v] = u\n",
    "                \n",
    "    return (dist, pred)\n",
    "\n",
    "def solution(s, v, dist, pred):\n",
    "    \"\"\"Return path and total information for shortest path from s to v\"\"\"\n",
    "\n",
    "    path = [v]\n",
    "    total = dist[v]\n",
    "    while v != s:\n",
    "        v = pred[v]\n",
    "        path.insert(0, v)\n",
    "\n",
    "    return \"length=\" + str(total) + \" \" + str(path)"
   ]
  },
  {
   "cell_type": "code",
   "execution_count": 5,
   "metadata": {
    "collapsed": false
   },
   "outputs": [],
   "source": [
    "d,p = singleSourceShortestPath(g2,0)"
   ]
  },
  {
   "cell_type": "code",
   "execution_count": 7,
   "metadata": {
    "collapsed": false
   },
   "outputs": [
    {
     "data": {
      "text/plain": [
       "({0: 0, 1: 1, 2: 3, 3: 5, 4: 8}, {0: None, 1: 0, 2: 1, 3: 2, 4: 3})"
      ]
     },
     "execution_count": 7,
     "metadata": {},
     "output_type": "execute_result"
    }
   ],
   "source": [
    "d,p"
   ]
  },
  {
   "cell_type": "code",
   "execution_count": 9,
   "metadata": {
    "collapsed": false
   },
   "outputs": [
    {
     "data": {
      "text/plain": [
       "'length=8 [0, 1, 2, 3, 4]'"
      ]
     },
     "execution_count": 9,
     "metadata": {},
     "output_type": "execute_result"
    }
   ],
   "source": [
    "solution(0,4,d,p)"
   ]
  },
  {
   "cell_type": "code",
   "execution_count": 10,
   "metadata": {
    "collapsed": false
   },
   "outputs": [],
   "source": [
    "from bheap import *   #github https://github.com/heineman/python-algorithms/tree/master/8.%20Heap"
   ]
  },
  {
   "cell_type": "code",
   "execution_count": 11,
   "metadata": {
    "collapsed": false
   },
   "outputs": [],
   "source": [
    "bh = BHeap(len(g2))"
   ]
  },
  {
   "cell_type": "code",
   "execution_count": 12,
   "metadata": {
    "collapsed": false
   },
   "outputs": [
    {
     "data": {
      "text/plain": [
       "[[0, None], [0, None], [0, None], [0, None], [0, None], [0, None]]"
      ]
     },
     "execution_count": 12,
     "metadata": {},
     "output_type": "execute_result"
    }
   ],
   "source": [
    "bh.elements\n"
   ]
  },
  {
   "cell_type": "code",
   "execution_count": 13,
   "metadata": {
    "collapsed": false
   },
   "outputs": [
    {
     "data": {
      "text/plain": [
       "True"
      ]
     },
     "execution_count": 13,
     "metadata": {},
     "output_type": "execute_result"
    }
   ],
   "source": [
    "bh.isEmpty()"
   ]
  },
  {
   "cell_type": "code",
   "execution_count": 14,
   "metadata": {
    "collapsed": false
   },
   "outputs": [
    {
     "data": {
      "text/plain": [
       "5"
      ]
     },
     "execution_count": 14,
     "metadata": {},
     "output_type": "execute_result"
    }
   ],
   "source": [
    "bh.size"
   ]
  },
  {
   "cell_type": "code",
   "execution_count": 15,
   "metadata": {
    "collapsed": false
   },
   "outputs": [],
   "source": [
    "#graph g2 and start node 's' would be passed in \n",
    "import sys #needed for maxint \n",
    "pred = {}  #predessor dictionary \n",
    "dist = {}  #accumulated distances \n",
    "for v in g2: \n",
    "        dist[v] = sys.maxint  #py2.7 in 3x you will see float, Infinity \n",
    "        pred[v] = None        #set to none because we haven't checked \n",
    "dist[0]=0   "
   ]
  },
  {
   "cell_type": "code",
   "execution_count": 16,
   "metadata": {
    "collapsed": false
   },
   "outputs": [
    {
     "data": {
      "text/plain": [
       "[[0, None],\n",
       " [0, 0],\n",
       " [2147483647, 4],\n",
       " [2147483647, 2],\n",
       " [2147483647, 1],\n",
       " [2147483647, 3]]"
      ]
     },
     "execution_count": 16,
     "metadata": {},
     "output_type": "execute_result"
    }
   ],
   "source": [
    "for v in g2:\n",
    "        bh.insert(v, dist[v])\n",
    "bh.elements"
   ]
  },
  {
   "cell_type": "code",
   "execution_count": 17,
   "metadata": {
    "collapsed": false
   },
   "outputs": [
    {
     "data": {
      "text/plain": [
       "{0: 0, 1: 2147483647, 2: 2147483647, 3: 2147483647, 4: 2147483647}"
      ]
     },
     "execution_count": 17,
     "metadata": {},
     "output_type": "execute_result"
    }
   ],
   "source": [
    "dist  #initial but we know this will be updated for vertices 0 to 1 and 2 and then 2 to 3 and 4 "
   ]
  },
  {
   "cell_type": "code",
   "execution_count": 18,
   "metadata": {
    "collapsed": false
   },
   "outputs": [
    {
     "data": {
      "text/plain": [
       "{0: 0, 1: 1, 2: 4, 3: 6, 4: 13}"
      ]
     },
     "execution_count": 18,
     "metadata": {},
     "output_type": "execute_result"
    }
   ],
   "source": [
    "dist = {0:0, 1:1, 2:4, 3:6, 4:13}  #this is after checking out nodes 0 and node 1 in the g2 graph \n",
    "dist"
   ]
  },
  {
   "cell_type": "markdown",
   "metadata": {},
   "source": [
    "<img src=\"files/wgraph6.png\">"
   ]
  },
  {
   "cell_type": "code",
   "execution_count": 19,
   "metadata": {
    "collapsed": false
   },
   "outputs": [
    {
     "data": {
      "text/plain": [
       "[[0, None],\n",
       " [0, 0],\n",
       " [2147483647, 4],\n",
       " [2147483647, 2],\n",
       " [2147483647, 1],\n",
       " [2147483647, 3]]"
      ]
     },
     "execution_count": 19,
     "metadata": {},
     "output_type": "execute_result"
    }
   ],
   "source": [
    "bh.elements"
   ]
  },
  {
   "cell_type": "code",
   "execution_count": 20,
   "metadata": {
    "collapsed": false
   },
   "outputs": [
    {
     "data": {
      "text/plain": [
       "[[0, None],\n",
       " [2147483647, 3],\n",
       " [2147483647, 4],\n",
       " [2147483647, 2],\n",
       " [2147483647, 1],\n",
       " [2147483647, 3]]"
      ]
     },
     "execution_count": 20,
     "metadata": {},
     "output_type": "execute_result"
    }
   ],
   "source": [
    "bh.smallest()  #pop of node 0 and use it \n",
    "bh.elements "
   ]
  },
  {
   "cell_type": "code",
   "execution_count": 21,
   "metadata": {
    "collapsed": false
   },
   "outputs": [
    {
     "data": {
      "text/plain": [
       "[[0, None],\n",
       " [1, 1],\n",
       " [2147483647, 3],\n",
       " [2147483647, 2],\n",
       " [2147483647, 4],\n",
       " [2147483647, 3]]"
      ]
     },
     "execution_count": 21,
     "metadata": {},
     "output_type": "execute_result"
    }
   ],
   "source": [
    "bh.decreaseKey(1,1)\n",
    "bh.elements\n"
   ]
  },
  {
   "cell_type": "code",
   "execution_count": 23,
   "metadata": {
    "collapsed": false
   },
   "outputs": [
    {
     "data": {
      "text/plain": [
       "[[0, None], [1, 1], [2147483647, 3], [4, 2], [2147483647, 4], [2147483647, 3]]"
      ]
     },
     "execution_count": 23,
     "metadata": {},
     "output_type": "execute_result"
    }
   ],
   "source": [
    "bh.decreaseKey(2,4)\n",
    "bh.elements\n"
   ]
  },
  {
   "cell_type": "code",
   "execution_count": 24,
   "metadata": {
    "collapsed": false
   },
   "outputs": [
    {
     "data": {
      "text/plain": [
       "[[0, None],\n",
       " [4, 2],\n",
       " [2147483647, 3],\n",
       " [2147483647, 4],\n",
       " [2147483647, 4],\n",
       " [2147483647, 3]]"
      ]
     },
     "execution_count": 24,
     "metadata": {},
     "output_type": "execute_result"
    }
   ],
   "source": [
    "bh.smallest()  #pop off node 1 and check \n",
    "bh.elements"
   ]
  },
  {
   "cell_type": "code",
   "execution_count": 25,
   "metadata": {
    "collapsed": false
   },
   "outputs": [
    {
     "data": {
      "text/plain": [
       "[[0, None],\n",
       " [3, 2],\n",
       " [2147483647, 3],\n",
       " [2147483647, 4],\n",
       " [2147483647, 4],\n",
       " [2147483647, 3]]"
      ]
     },
     "execution_count": 25,
     "metadata": {},
     "output_type": "execute_result"
    }
   ],
   "source": [
    "bh.decreaseKey(2,3)  #replace distance to node 2 \n",
    "bh.elements \n"
   ]
  },
  {
   "cell_type": "code",
   "execution_count": 26,
   "metadata": {
    "collapsed": false
   },
   "outputs": [
    {
     "data": {
      "text/plain": [
       "[[0, None], [3, 2], [6, 3], [2147483647, 4], [2147483647, 4], [2147483647, 3]]"
      ]
     },
     "execution_count": 26,
     "metadata": {},
     "output_type": "execute_result"
    }
   ],
   "source": [
    "bh.decreaseKey(3,6)\n",
    "bh.elements\n",
    " "
   ]
  },
  {
   "cell_type": "code",
   "execution_count": 27,
   "metadata": {
    "collapsed": false
   },
   "outputs": [
    {
     "data": {
      "text/plain": [
       "[[0, None], [3, 2], [6, 3], [13, 4], [2147483647, 4], [2147483647, 3]]"
      ]
     },
     "execution_count": 27,
     "metadata": {},
     "output_type": "execute_result"
    }
   ],
   "source": [
    "bh.decreaseKey(4,13)  #v, length\n",
    "bh.elements"
   ]
  },
  {
   "cell_type": "code",
   "execution_count": 28,
   "metadata": {
    "collapsed": false
   },
   "outputs": [],
   "source": [
    "u1 = bh.smallest()   #in the example we've popped of 0,0 and 1,1 and we're on 3,2 \n"
   ]
  },
  {
   "cell_type": "code",
   "execution_count": 29,
   "metadata": {
    "collapsed": false
   },
   "outputs": [
    {
     "name": "stdout",
     "output_type": "stream",
     "text": [
      "2\n"
     ]
    }
   ],
   "source": [
    "print u1"
   ]
  },
  {
   "cell_type": "code",
   "execution_count": 22,
   "metadata": {
    "collapsed": false
   },
   "outputs": [
    {
     "data": {
      "text/plain": [
       "[[0, None], [6, 3], [13, 4], [13, 4], [2147483647, 4], [2147483647, 3]]"
      ]
     },
     "execution_count": 22,
     "metadata": {},
     "output_type": "execute_result"
    }
   ],
   "source": [
    "bh.elements   #in the example we've popped of 0,0 and 1,1 and we're on 3,2 "
   ]
  },
  {
   "cell_type": "code",
   "execution_count": 32,
   "metadata": {
    "collapsed": false
   },
   "outputs": [
    {
     "data": {
      "text/plain": [
       "{0: {1: 1, 2: 4}, 1: {2: 2, 3: 5, 4: 12}, 2: {3: 2}, 3: {4: 3}, 4: {}}"
      ]
     },
     "execution_count": 32,
     "metadata": {},
     "output_type": "execute_result"
    }
   ],
   "source": [
    "g2  #back to the graph to get vertex 2 "
   ]
  },
  {
   "cell_type": "code",
   "execution_count": 33,
   "metadata": {
    "collapsed": false
   },
   "outputs": [
    {
     "data": {
      "text/plain": [
       "[[0, None], [6, 3], [13, 4], [13, 4], [2147483647, 4], [2147483647, 3]]"
      ]
     },
     "execution_count": 33,
     "metadata": {},
     "output_type": "execute_result"
    }
   ],
   "source": [
    "bh.elements\n"
   ]
  },
  {
   "cell_type": "code",
   "execution_count": 34,
   "metadata": {
    "collapsed": false
   },
   "outputs": [
    {
     "data": {
      "text/plain": [
       "{3: 2}"
      ]
     },
     "execution_count": 34,
     "metadata": {},
     "output_type": "execute_result"
    }
   ],
   "source": [
    "g2[2]  #goes to node 3 with distance of 2 "
   ]
  },
  {
   "cell_type": "code",
   "execution_count": 35,
   "metadata": {
    "collapsed": false
   },
   "outputs": [
    {
     "name": "stdout",
     "output_type": "stream",
     "text": [
      "distance at node 3 NOT accumulated distance 2\n"
     ]
    }
   ],
   "source": [
    "wt = g2[2][3]\n",
    "print \"distance at node\", 3, \"NOT accumulated distance\", wt "
   ]
  },
  {
   "cell_type": "code",
   "execution_count": 36,
   "metadata": {
    "collapsed": false
   },
   "outputs": [
    {
     "data": {
      "text/plain": [
       "{0: 0, 1: 1, 2: 4, 3: 6, 4: 13}"
      ]
     },
     "execution_count": 36,
     "metadata": {},
     "output_type": "execute_result"
    }
   ],
   "source": [
    "dist #this is our accumulated distance look up the current vertex 2 to see it's 3 "
   ]
  },
  {
   "cell_type": "code",
   "execution_count": 37,
   "metadata": {
    "collapsed": false
   },
   "outputs": [
    {
     "data": {
      "text/plain": [
       "4"
      ]
     },
     "execution_count": 37,
     "metadata": {},
     "output_type": "execute_result"
    }
   ],
   "source": [
    "dist[2]"
   ]
  },
  {
   "cell_type": "code",
   "execution_count": 38,
   "metadata": {
    "collapsed": false
   },
   "outputs": [
    {
     "data": {
      "text/plain": [
       "6"
      ]
     },
     "execution_count": 38,
     "metadata": {},
     "output_type": "execute_result"
    }
   ],
   "source": [
    "#add the given node distance of 2  + accumulated and you get ... 5 \n",
    "#wait!! get distance we've found so far \n",
    "dist[3]"
   ]
  },
  {
   "cell_type": "code",
   "execution_count": 40,
   "metadata": {
    "collapsed": false
   },
   "outputs": [
    {
     "data": {
      "text/plain": [
       "[[0, None], [6, 3], [13, 4], [13, 4], [2147483647, 4], [2147483647, 3]]"
      ]
     },
     "execution_count": 40,
     "metadata": {},
     "output_type": "execute_result"
    }
   ],
   "source": [
    "#We just found a better distance change the heap \n",
    "#Before \n",
    "bh.elements"
   ]
  },
  {
   "cell_type": "markdown",
   "metadata": {},
   "source": [
    "<img src=\"files/wgraph8.png\">"
   ]
  },
  {
   "cell_type": "code",
   "execution_count": 41,
   "metadata": {
    "collapsed": false
   },
   "outputs": [],
   "source": [
    "bh.decreaseKey(3,5 )  #v, Length "
   ]
  },
  {
   "cell_type": "code",
   "execution_count": 42,
   "metadata": {
    "collapsed": false
   },
   "outputs": [
    {
     "data": {
      "text/plain": [
       "[[0, None], [5, 3], [13, 4], [13, 4], [2147483647, 4], [2147483647, 3]]"
      ]
     },
     "execution_count": 42,
     "metadata": {},
     "output_type": "execute_result"
    }
   ],
   "source": [
    "bh.elements"
   ]
  },
  {
   "cell_type": "code",
   "execution_count": null,
   "metadata": {
    "collapsed": false
   },
   "outputs": [],
   "source": []
  }
 ],
 "metadata": {
  "kernelspec": {
   "display_name": "Python 2",
   "language": "python",
   "name": "python2"
  },
  "language_info": {
   "codemirror_mode": {
    "name": "ipython",
    "version": 2
   },
   "file_extension": ".py",
   "mimetype": "text/x-python",
   "name": "python",
   "nbconvert_exporter": "python",
   "pygments_lexer": "ipython2",
   "version": "2.7.10"
  }
 },
 "nbformat": 4,
 "nbformat_minor": 0
}
