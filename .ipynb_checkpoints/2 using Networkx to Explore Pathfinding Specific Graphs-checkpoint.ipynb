{
 "cells": [
  {
   "cell_type": "markdown",
   "metadata": {},
   "source": [
    "## 2 Using Networkx to Explore Pathfinding Specific graphs Drawing and creating the graph in networkX "
   ]
  },
  {
   "cell_type": "markdown",
   "metadata": {},
   "source": [
    "Setup of simple examples using NetworkX\n",
    "- take an example and create networkx graph\n",
    "- steps involved \n",
    "- running dijkstra and A* on the graph \n"
   ]
  },
  {
   "cell_type": "code",
   "execution_count": null,
   "metadata": {
    "collapsed": false
   },
   "outputs": [],
   "source": [
    "#image below using <img src=\"files/wgraph5.png\"> "
   ]
  },
  {
   "cell_type": "markdown",
   "metadata": {},
   "source": [
    "Edx Graph From Edx week 2 A* course / Archived course sign in. We're using this graph because  \n",
    "- https://www.edx.org/course/artificial-intelligence-uc-berkeleyx-cs188-1x\n",
    "- It's archived and Free - week 2 covers A* in detail \n",
    "- It's a small graph \n",
    "- Has a good heuristic example \n",
    "- Fairly typical of what's on the web "
   ]
  },
  {
   "cell_type": "markdown",
   "metadata": {},
   "source": [
    "  https://courses.edx.org/courses/BerkeleyX/CS188.1x-4/1T2015/courseware/c78976d210314651abb740912d8279bb/e8c2d3dd71a84472997173f55c98a35c/  \n",
    "<img src=\"files/wgraph5.png\">"
   ]
  },
  {
   "cell_type": "code",
   "execution_count": null,
   "metadata": {
    "collapsed": false
   },
   "outputs": [],
   "source": [
    "import networkx as nx"
   ]
  },
  {
   "cell_type": "code",
   "execution_count": null,
   "metadata": {
    "collapsed": false
   },
   "outputs": [],
   "source": [
    "import  matplotlib.pyplot as plt  "
   ]
  },
  {
   "cell_type": "code",
   "execution_count": null,
   "metadata": {
    "collapsed": false
   },
   "outputs": [],
   "source": [
    "#inline matplotlib \n",
    "%matplotlib inline"
   ]
  },
  {
   "cell_type": "code",
   "execution_count": null,
   "metadata": {
    "collapsed": false
   },
   "outputs": [],
   "source": [
    "g1 = nx.Graph()"
   ]
  },
  {
   "cell_type": "code",
   "execution_count": null,
   "metadata": {
    "collapsed": false
   },
   "outputs": [],
   "source": [
    "type(g1)"
   ]
  },
  {
   "cell_type": "code",
   "execution_count": null,
   "metadata": {
    "collapsed": false
   },
   "outputs": [],
   "source": [
    "print (dir(g1)) "
   ]
  },
  {
   "cell_type": "code",
   "execution_count": null,
   "metadata": {
    "collapsed": false
   },
   "outputs": [],
   "source": [
    "g1.add_nodes_from(['s','a','b','c','g'])"
   ]
  },
  {
   "cell_type": "code",
   "execution_count": null,
   "metadata": {
    "collapsed": false
   },
   "outputs": [],
   "source": [
    "g1.nodes()"
   ]
  },
  {
   "cell_type": "code",
   "execution_count": null,
   "metadata": {
    "collapsed": false
   },
   "outputs": [],
   "source": [
    "nx.draw(g1)  #http://networkx.github.io/documentation/development/reference/generated/networkx.drawing.nx_pylab.draw.html"
   ]
  },
  {
   "cell_type": "code",
   "execution_count": null,
   "metadata": {
    "collapsed": false
   },
   "outputs": [],
   "source": [
    "nx.draw_networkx(g1, node_color='r') \n",
    "#http://networkx.github.io/documentation/development/reference/generated/networkx.drawing.nx_pylab.draw_networkx.html#networkx.drawing.nx_pylab.draw_networkx"
   ]
  },
  {
   "cell_type": "code",
   "execution_count": null,
   "metadata": {
    "collapsed": false
   },
   "outputs": [],
   "source": [
    "#add edges\n",
    "g1.add_edge('s','a')\n",
    "g1.add_edge('s','b')\n",
    "g1.add_edge('a','b')\n",
    "g1.add_edge('a','c')\n",
    "g1.add_edge('a','g')\n",
    "g1.add_edge('b','c')\n",
    "g1.add_edge('c','g')"
   ]
  },
  {
   "cell_type": "code",
   "execution_count": null,
   "metadata": {
    "collapsed": false
   },
   "outputs": [],
   "source": [
    "#draw - note it's a different layout each time, we'll fix that \n",
    "nx.draw_networkx(g1)"
   ]
  },
  {
   "cell_type": "code",
   "execution_count": null,
   "metadata": {
    "collapsed": false
   },
   "outputs": [],
   "source": [
    "#title - note it's in a grid, we will need that positioning \n",
    "nx.draw_networkx(g1, with_labels=True)\n",
    "plt.title(\"Simple Graph\")\n",
    "plt.show()\n",
    " "
   ]
  },
  {
   "cell_type": "markdown",
   "metadata": {},
   "source": [
    "Reminder of what we're looking for ...\n",
    "<img src=\"files/wgraph5.png\">"
   ]
  },
  {
   "cell_type": "code",
   "execution_count": null,
   "metadata": {
    "collapsed": false
   },
   "outputs": [],
   "source": [
    "#labels \n",
    "g1.add_edge('s','a', weight=1)\n",
    "g1.add_edge('s','b', weight=4)\n",
    "g1.add_edge('a','b', weight=2)\n",
    "g1.add_edge('a','c', weight=5)\n",
    "g1.add_edge('a','g', weight=12)\n",
    "g1.add_edge('b','c', weight=2)\n",
    "g1.add_edge('c','g', weight=3)"
   ]
  },
  {
   "cell_type": "code",
   "execution_count": null,
   "metadata": {
    "collapsed": false
   },
   "outputs": [],
   "source": [
    "g1.edges(data=True)"
   ]
  },
  {
   "cell_type": "code",
   "execution_count": null,
   "metadata": {
    "collapsed": true
   },
   "outputs": [],
   "source": [
    "from IPython.display import IFrame"
   ]
  },
  {
   "cell_type": "code",
   "execution_count": null,
   "metadata": {
    "collapsed": false
   },
   "outputs": [],
   "source": [
    "IFrame('http://networkx.readthedocs.org/en/stable/reference/generated/networkx.drawing.nx_pylab.draw_networkx.html?highlight=draw_networkx', width='90%',height=460)"
   ]
  },
  {
   "cell_type": "code",
   "execution_count": null,
   "metadata": {
    "collapsed": false
   },
   "outputs": [],
   "source": [
    "for source, sink, data in g1.edges(data=True):   #confirms print out \n",
    "    print (source,sink, data )"
   ]
  },
  {
   "cell_type": "code",
   "execution_count": null,
   "metadata": {
    "collapsed": false
   },
   "outputs": [],
   "source": [
    "dict([( (source,sink), data['weight']) for source,sink,data in g1.edges(data=True)])"
   ]
  },
  {
   "cell_type": "code",
   "execution_count": null,
   "metadata": {
    "collapsed": false
   },
   "outputs": [],
   "source": [
    "edge_labs = dict([( (u,v), d['weight']) for u,v,d in g1.edges(data=True)])\n",
    "print edge_labs"
   ]
  },
  {
   "cell_type": "code",
   "execution_count": null,
   "metadata": {
    "collapsed": false
   },
   "outputs": [],
   "source": [
    "#pos = nx.spectral_layout(g1)\n",
    "pos = nx.spring_layout(g1)"
   ]
  },
  {
   "cell_type": "code",
   "execution_count": null,
   "metadata": {
    "collapsed": false
   },
   "outputs": [],
   "source": [
    "nx.draw(g1, pos) #since nx.draw no labels as default \n",
    "nx.draw_networkx_edge_labels(g1, pos, edge_labels=edge_labs)\n",
    "plt.title(\"Great!Weighted Spaghetti Graph\")\n",
    "plt.show()"
   ]
  },
  {
   "cell_type": "code",
   "execution_count": null,
   "metadata": {
    "collapsed": false
   },
   "outputs": [],
   "source": [
    "nx.draw_networkx(g1, pos )\n",
    "nx.draw_networkx_edge_labels(g1, pos, edge_labels=edge_labs)\n",
    "nx.draw_networkx_nodes(g1, pos, node_color='r')\n",
    "plt.title(\"Boxed in Weighted Graph\")\n",
    "plt.show()"
   ]
  },
  {
   "cell_type": "code",
   "execution_count": null,
   "metadata": {
    "collapsed": false
   },
   "outputs": [],
   "source": [
    "#pos fixed pos\n",
    "#set of fixed positions for the node \n",
    "fixed_positions = {'s':(0,4),'a':(4,6), 'b':(4,2), 'c':(8,4), 'g':(12,4)}#dict with two of the positions set"
   ]
  },
  {
   "cell_type": "code",
   "execution_count": null,
   "metadata": {
    "collapsed": false
   },
   "outputs": [],
   "source": [
    "pos = fixed_positions\n",
    "nx.draw_networkx(g1, pos, with_labels=True, )\n",
    "nx.draw_networkx_edge_labels(g1, pos, edge_labels=edge_labs)\n",
    "nx.draw_networkx_nodes(g1, pos, node_color='r')\n",
    "plt.title(\"Weighted Graph\")\n",
    "#plt.axis('off')\n",
    "plt.show()"
   ]
  },
  {
   "cell_type": "code",
   "execution_count": null,
   "metadata": {
    "collapsed": false
   },
   "outputs": [],
   "source": [
    "#remove axis"
   ]
  },
  {
   "cell_type": "code",
   "execution_count": null,
   "metadata": {
    "collapsed": false
   },
   "outputs": [],
   "source": [
    "pos = fixed_positions\n",
    "nx.draw_networkx(g1, pos, with_labels=True, )\n",
    "nx.draw_networkx_edge_labels(g1, pos, edge_labels=edge_labs)\n",
    "nx.draw_networkx_nodes(g1, pos, node_color='b')\n",
    "plt.title(\"Weighted Graph\")\n",
    "plt.axis('off')   #removes axis\n",
    "plt.show()"
   ]
  },
  {
   "cell_type": "code",
   "execution_count": null,
   "metadata": {
    "collapsed": false
   },
   "outputs": [],
   "source": [
    "#little weird..billard balls, would like lite blue... \n",
    "pos = fixed_positions\n",
    "nx.draw_networkx(g1, pos, with_labels=True, node_size=1800, node_color='b', font_size= 19 )\n",
    "nx.draw_networkx_edge_labels(g1, pos, edge_labels=edge_labs)\n",
    "nx.draw_networkx_nodes(g1, pos, node_color='w', font_size = 20   )\n",
    "plt.title(\"Weighted Graph\")\n",
    "plt.axis('off')   #removes axis\n",
    "plt.show()"
   ]
  },
  {
   "cell_type": "code",
   "execution_count": null,
   "metadata": {
    "collapsed": false,
    "scrolled": true
   },
   "outputs": [],
   "source": [
    "from IPython.display import IFrame\n",
    "IFrame('http://www.color-hex.com/color/a0cbe2',width='100%', height=200)"
   ]
  },
  {
   "cell_type": "code",
   "execution_count": null,
   "metadata": {
    "collapsed": false
   },
   "outputs": [],
   "source": [
    "#\n",
    "LIGHT_BLUE =  '#A0CBE2'  #html hex colors http://www.color-hex.com/color/a0cbe2\n",
    "pos = fixed_positions\n",
    "nx.draw_networkx(g1, pos, with_labels=True, node_size=1800, node_color=LIGHT_BLUE, font_size= 19 ) #node_color='b'\n",
    "nx.draw_networkx_edge_labels(g1, pos, edge_labels=edge_labs) \n",
    "\n",
    "#nodes = nx.draw_networkx_nodes(g1,pos)\n",
    "#nodes.set_edgecolor('g')\n",
    "\n",
    "nx.draw_networkx_nodes(g1, pos, node_shape =None, node_color=LIGHT_BLUE , font_size = 20    )\n",
    "#https://networkx.github.io/documentation/latest/_modules/networkx/drawing/nx_pylab.html \n",
    "\n",
    "plt.title(\"Weighted Graph\")\n",
    "plt.axis('off')   #removes axis\n",
    "plt.show()"
   ]
  },
  {
   "cell_type": "code",
   "execution_count": null,
   "metadata": {
    "collapsed": false
   },
   "outputs": [],
   "source": [
    "nx.shortest_path(g1,'s','g')"
   ]
  },
  {
   "cell_type": "code",
   "execution_count": null,
   "metadata": {
    "collapsed": false
   },
   "outputs": [],
   "source": [
    "nx.dijkstra_path(g1, 's','g')"
   ]
  },
  {
   "cell_type": "code",
   "execution_count": null,
   "metadata": {
    "collapsed": false
   },
   "outputs": [],
   "source": [
    "nx.astar_path(g1,'s', 'g')"
   ]
  },
  {
   "cell_type": "code",
   "execution_count": null,
   "metadata": {
    "collapsed": false
   },
   "outputs": [],
   "source": [
    "nx.astar_path(g1,'s', 'g', heuristic = None )"
   ]
  },
  {
   "cell_type": "markdown",
   "metadata": {},
   "source": [
    "# Digressions! "
   ]
  },
  {
   "cell_type": "code",
   "execution_count": null,
   "metadata": {
    "collapsed": false
   },
   "outputs": [],
   "source": [
    "#little digression we could use rough distance since we have pos\n",
    "# distance = sqrt((x2-x1)**2 + (y2-y1)**2)\n",
    "#http://www.calculatorsoup.com/calculators/geometry-plane/distance-two-points.php"
   ]
  },
  {
   "cell_type": "code",
   "execution_count": null,
   "metadata": {
    "collapsed": false
   },
   "outputs": [],
   "source": [
    "#example from http://networkx.lanl.gov/reference/generated/networkx.algorithms.shortest_paths.astar.astar_path.html\n",
    "G=nx.path_graph(5)\n",
    "print(nx.astar_path(G,0,4))\n",
    "\n",
    "G=nx.grid_graph(dim=[3,3])  # nodes are two-tuples (x,y)\n",
    "\n",
    "def dist(a, b):\n",
    "    (x1, y1) = a\n",
    "    (x2, y2) = b\n",
    "return ((x1 - x2) ** 2 + (y1 - y2) ** 2) ** 0.5\n",
    "\n",
    "print(nx.astar_path(G,(0,0),(2,2),dist))\n",
    "[(0, 0), (0, 1), (1, 1), (1, 2), (2, 2)]"
   ]
  },
  {
   "cell_type": "code",
   "execution_count": null,
   "metadata": {
    "collapsed": false
   },
   "outputs": [],
   "source": [
    "pos"
   ]
  },
  {
   "cell_type": "code",
   "execution_count": null,
   "metadata": {
    "collapsed": false
   },
   "outputs": [],
   "source": [
    "import math"
   ]
  },
  {
   "cell_type": "code",
   "execution_count": null,
   "metadata": {
    "collapsed": false
   },
   "outputs": [],
   "source": [
    "print \"a(x)\",pos['a'][0], \"b(x)\",pos['b'][0]\n",
    "print math.sqrt(  (pos['a'][0] - pos['b'][0]) **2 ) "
   ]
  },
  {
   "cell_type": "code",
   "execution_count": null,
   "metadata": {
    "collapsed": false
   },
   "outputs": [],
   "source": [
    "def d2(a,b):\n",
    "    z = math.sqrt( ((pos[b][0]- pos[a][0])**2) + ((pos[b][1]-pos[a][1])**2)  ) \n",
    "    return z \n",
    "        "
   ]
  },
  {
   "cell_type": "code",
   "execution_count": null,
   "metadata": {
    "collapsed": false
   },
   "outputs": [],
   "source": [
    "#write a little function... \n",
    "nx.astar_path(g1,'s','g',  heuristic=d2 )"
   ]
  },
  {
   "cell_type": "code",
   "execution_count": null,
   "metadata": {
    "collapsed": false
   },
   "outputs": [],
   "source": []
  }
 ],
 "metadata": {
  "kernelspec": {
   "display_name": "Python 2",
   "language": "python",
   "name": "python2"
  },
  "language_info": {
   "codemirror_mode": {
    "name": "ipython",
    "version": 2
   },
   "file_extension": ".py",
   "mimetype": "text/x-python",
   "name": "python",
   "nbconvert_exporter": "python",
   "pygments_lexer": "ipython2",
   "version": "2.7.10"
  }
 },
 "nbformat": 4,
 "nbformat_minor": 0
}
